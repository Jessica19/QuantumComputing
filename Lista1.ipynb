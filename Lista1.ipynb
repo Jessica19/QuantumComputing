{
 "cells": [
  {
   "cell_type": "code",
   "execution_count": 7,
   "metadata": {},
   "outputs": [],
   "source": [
    "import numpy as np"
   ]
  },
  {
   "cell_type": "code",
   "execution_count": 44,
   "metadata": {},
   "outputs": [],
   "source": [
    "def MatrixType(M):\n",
    "    \n",
    "    \"\"\" receives a square matrix nxn returns -1 if is not squared\n",
    "    1 if the matrix is hermitian\n",
    "    2 if is normal \n",
    "    3 if is unitary\n",
    "    -2 if is none of the options above\n",
    "    \"\"\"\n",
    "    n,m = M.shape\n",
    "    if (n != m):\n",
    "        return -1\n",
    "    # check if the matrix is hermitian\n",
    "    H = M.getH()\n",
    "    diffH = H - M\n",
    "    if np.matrix.sum(abs(diffH)) == 0:\n",
    "        return 1\n",
    "    # check if the matrix is normal \n",
    "    A = np.matmul(H, M)\n",
    "    B = np.matmul(M,H)\n",
    "    diffN = A - B\n",
    "    if  np.matrix.sum(abs(diffN)) == 0:\n",
    "        return 2\n",
    "    # check if a matrix is unitary\n",
    "    U = np.linalg.inv(M)\n",
    "    I = np.identity(n)\n",
    "    diff = np.matmul(U, M) - I\n",
    "    if np.matrix.sum(abs(diff)) == 0:\n",
    "        return 3\n",
    "    return -2"
   ]
  }
 ],
 "metadata": {
  "kernelspec": {
   "display_name": "Python 3",
   "language": "python",
   "name": "python3"
  },
  "language_info": {
   "codemirror_mode": {
    "name": "ipython",
    "version": 3
   },
   "file_extension": ".py",
   "mimetype": "text/x-python",
   "name": "python",
   "nbconvert_exporter": "python",
   "pygments_lexer": "ipython3",
   "version": "3.6.7"
  }
 },
 "nbformat": 4,
 "nbformat_minor": 2
}
